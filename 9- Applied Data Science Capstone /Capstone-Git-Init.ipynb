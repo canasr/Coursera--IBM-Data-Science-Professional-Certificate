{
 "cells": [
  {
   "cell_type": "markdown",
   "metadata": {},
   "source": [
    "# Capstone Project\n",
    "\n",
    "### 1 Introduction to Capstone Project\n",
    "\n",
    "Introduction to Capstone Project\n",
    "Location Data Providers\n",
    "Signing-up for a Watson Studio Account\n",
    "Peer-review Assignment: Capstone Project Notebook\n",
    "\n",
    "\n",
    "### 2  Foursquare API\n",
    "\n",
    "Introduction to Foursquare\n",
    "Getting Foursquare API Credentials\n",
    "Using Foursquare API\n",
    "Lab: Foursquare API\n",
    "Quiz: Foursquare API\n",
    "\n",
    "### 3  Neighborhood Segmentation and Clustering\n",
    "\n",
    "Clustering\n",
    "Lab: Clustering\n",
    "Lab: Segmenting and Clustering Neighborhoods in New York City\n",
    "Peer-review Assignment: Segmenting and Clustering Neighborhoods in Toronto\n",
    "\n",
    "\n",
    "### 4  Capstone Project\n",
    "Implementation\n",
    "\n"
   ]
  },
  {
   "cell_type": "code",
   "execution_count": 2,
   "metadata": {},
   "outputs": [],
   "source": [
    "import numpy as np\n",
    "import pandas as pd \n",
    "import matplotlib as mpl\n",
    "import matplotlib.pyplot as plt\n",
    "import seaborn as sns"
   ]
  },
  {
   "cell_type": "code",
   "execution_count": 3,
   "metadata": {},
   "outputs": [
    {
     "name": "stdout",
     "output_type": "stream",
     "text": [
      "Hello Capstone Project Course!\n"
     ]
    }
   ],
   "source": [
    "print( 'Hello Capstone Project Course!!' )"
   ]
  },
  {
   "cell_type": "code",
   "execution_count": null,
   "metadata": {},
   "outputs": [],
   "source": []
  }
 ],
 "metadata": {
  "kernelspec": {
   "display_name": "Python 3",
   "language": "python",
   "name": "python3"
  },
  "language_info": {
   "codemirror_mode": {
    "name": "ipython",
    "version": 3
   },
   "file_extension": ".py",
   "mimetype": "text/x-python",
   "name": "python",
   "nbconvert_exporter": "python",
   "pygments_lexer": "ipython3",
   "version": "3.8.6"
  }
 },
 "nbformat": 4,
 "nbformat_minor": 4
}
